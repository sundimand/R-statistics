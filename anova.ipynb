{
 "cells": [
  {
   "cell_type": "markdown",
   "id": "0b20eeea",
   "metadata": {},
   "source": [
    "### uji Anova Promo"
   ]
  },
  {
   "cell_type": "markdown",
   "id": "ef5bf475",
   "metadata": {},
   "source": [
    "#### 1. Load the data kelas"
   ]
  },
  {
   "cell_type": "code",
   "execution_count": 17,
   "id": "f132deac",
   "metadata": {},
   "outputs": [],
   "source": [
    "ad_data <- read.csv(file = \"data_promo.csv\", header = TRUE, sep = \",\")"
   ]
  },
  {
   "cell_type": "markdown",
   "id": "afec1e19",
   "metadata": {},
   "source": [
    "\n",
    "#### 2. Ringkasan data"
   ]
  },
  {
   "cell_type": "code",
   "execution_count": 18,
   "id": "5260f96b",
   "metadata": {},
   "outputs": [
    {
     "data": {
      "text/plain": [
       "   Promotion Profit\n",
       "1          A    113\n",
       "2          A    117\n",
       "3          A    139\n",
       "4          A    121\n",
       "5          A    122\n",
       "6          A    141\n",
       "7          A    126\n",
       "8          A    105\n",
       "9          A    112\n",
       "10         A    115"
      ]
     },
     "execution_count": null,
     "metadata": {},
     "output_type": "execute_result"
    }
   ],
   "source": [
    "summary(ad_data)\n",
    "head(ad_data, 10)"
   ]
  },
  {
   "cell_type": "markdown",
   "id": "a4ae4d2d",
   "metadata": {},
   "source": [
    "#### 3. Cek asumsi"
   ]
  },
  {
   "cell_type": "code",
   "execution_count": 19,
   "id": "b2642265",
   "metadata": {},
   "outputs": [
    {
     "name": "stderr",
     "output_type": "stream",
     "text": [
      "Warning message:\n",
      "In leveneTest.default(y = y, group = group, ...) : group coerced to factor.\n"
     ]
    }
   ],
   "source": [
    "# 3a. ANOVA model\n",
    "fit <- aov(Profit ~ Promotion, data = ad_data)\n",
    "\n",
    "# 3b. Normalitas residual (Shapiro-Wilk)\n",
    "# p value > 0.05 maka Residual terdistribusi normal\n",
    "norm_test <- shapiro.test(residuals(fit))\n",
    "\n",
    "# 3c. Homogenitas varians (Levene)\n",
    "# p value > 0.05 maka Varians antar‐kelas homogen\n",
    "\n",
    "library(car)\n",
    "levene_test <- leveneTest(Profit ~ Promotion, data = ad_data)"
   ]
  },
  {
   "cell_type": "code",
   "execution_count": 20,
   "id": "ae8d297b",
   "metadata": {},
   "outputs": [
    {
     "data": {
      "text/plain": [
       "$normality\n",
       "\n",
       "\tShapiro-Wilk normality test\n",
       "\n",
       "data:  residuals(fit)\n",
       "W = 0.99476, p-value = 0.1296\n",
       "\n",
       "\n",
       "$homogeneity\n",
       "Levene's Test for Homogeneity of Variance (center = median)\n",
       "       Df F value Pr(>F)\n",
       "group   2   0.779 0.4595\n",
       "      447               \n"
      ]
     },
     "execution_count": null,
     "metadata": {},
     "output_type": "execute_result"
    }
   ],
   "source": [
    "# 4. Ringkasan hasil uji asumsi\n",
    "list(\n",
    "  normality  = norm_test,\n",
    "  homogeneity = levene_test\n",
    ")"
   ]
  },
  {
   "cell_type": "markdown",
   "id": "c1e2b50f",
   "metadata": {},
   "source": [
    "#### 5. Uji ANOVA dan post-hoc\n"
   ]
  },
  {
   "cell_type": "code",
   "execution_count": 21,
   "id": "973e1010",
   "metadata": {},
   "outputs": [],
   "source": [
    "anova_res <- fit\n",
    "anova_summary <- summary(anova_res)\n",
    "tukey_res    <- TukeyHSD(anova_res, \"Promotion\")"
   ]
  },
  {
   "cell_type": "markdown",
   "id": "c621bffd",
   "metadata": {},
   "source": [
    "#### 6. Cetak hasil"
   ]
  },
  {
   "cell_type": "code",
   "execution_count": 22,
   "id": "875c88c2",
   "metadata": {},
   "outputs": [
    {
     "data": {
      "text/plain": [
       "             Df Sum Sq Mean Sq F value Pr(>F)    \n",
       "Promotion     2  82634   41317     340 <2e-16 ***\n",
       "Residuals   447  54327     122                   \n",
       "---\n",
       "Signif. codes:  0 ‘***’ 0.001 ‘**’ 0.01 ‘*’ 0.05 ‘.’ 0.1 ‘ ’ 1"
      ]
     },
     "execution_count": null,
     "metadata": {},
     "output_type": "execute_result"
    }
   ],
   "source": [
    "anova_summary"
   ]
  },
  {
   "cell_type": "code",
   "execution_count": 23,
   "id": "09e2fc3c",
   "metadata": {},
   "outputs": [
    {
     "data": {
      "text/plain": [
       "  Tukey multiple comparisons of means\n",
       "    95% family-wise confidence level\n",
       "\n",
       "Fit: aov(formula = Profit ~ Promotion, data = ad_data)\n",
       "\n",
       "$Promotion\n",
       "        diff        lwr      upr     p adj\n",
       "B-A 27.49333 24.4998434 30.48682 0.0000000\n",
       "C-A 29.85333 26.8598434 32.84682 0.0000000\n",
       "C-B  2.36000 -0.6334899  5.35349 0.1535223\n"
      ]
     },
     "execution_count": null,
     "metadata": {},
     "output_type": "execute_result"
    }
   ],
   "source": [
    "tukey_res"
   ]
  }
 ],
 "metadata": {
  "language_info": {
   "name": "r"
  }
 },
 "nbformat": 4,
 "nbformat_minor": 5
}
