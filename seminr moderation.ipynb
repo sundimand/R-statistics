{
 "cells": [
  {
   "cell_type": "markdown",
   "id": "2e2695ba",
   "metadata": {},
   "source": [
    "# Reference\n",
    " - Hair et al. 2021, https://link.springer.com/book/10.1007/978-3-030-80519-7\n",
    " - https://mirror.twds.com.tw/CRAN/web/packages/seminr/seminr.pdf\n",
    " - data Corporate: https://www.pls-sem.net/downloads/pls-sem-using-r-a-workbook/\n",
    " - Hair, J. F., Risher, J. J., Sarstedt, M., & Ringle, C. M. (2019). When to use and how to report the results of PLS-SEM. European Business Review, 31(1), 2–24.\n",
    " - Fornell, C., & Larcker, D. F. (1981). Evaluating structural equation models with unobservable variables and measurement error. Journal of Marketing Research, 18(1), 39–50.\n",
    " - Henseler, J., Ringle, C. M., & Sarstedt, M. (2015). A new criterion for assessing discriminant validity in variance-based structural equation modeling. Journal of the Academy of Marketing Science, 43(1), 115–135.\n",
    " - Cohen, J. (1988). Statistical power analysis for the behavioral sciences. Mahwah, NJ: Lawrence Erlbaum.\n",
    " - https://github.com/sem-in-r/seminr/blob/master/vignettes/SEMinR.Rmd\n",
    " - https://papers.ssrn.com/sol3/papers.cfm?abstract_id=3900621\n",
    " - https://cran.r-project.org/web/packages/seminr/index.html"
   ]
  },
  {
   "cell_type": "markdown",
   "id": "b5ccbbda",
   "metadata": {},
   "source": [
    "# Langkah utama untuk analisis PLS-SEM yaitu:\n",
    " - A. Persiapan ekosistem, data dan model,\n",
    " - B. Measurement Model Assessment (periksa indikator ke variabel),\n",
    " - C. Structural Model Assessment (periksa antar variabel),\n",
    " - D. uji Moderasi / Mediasi\n",
    " - E. Plot gambar hasil analisis seminr"
   ]
  },
  {
   "cell_type": "markdown",
   "id": "cae8606f",
   "metadata": {},
   "source": [
    "### A. Persiapan ekosistem, data dan model,"
   ]
  },
  {
   "cell_type": "code",
   "execution_count": null,
   "id": "052b6db0",
   "metadata": {},
   "outputs": [],
   "source": [
    "# a1. instal library seminr jika belum ada\n",
    "# install.packages(\"seminr\")"
   ]
  },
  {
   "cell_type": "code",
   "execution_count": 1,
   "id": "1989c681",
   "metadata": {},
   "outputs": [],
   "source": [
    "# Make the SEMinR library ready to use\n",
    "library(\"seminr\")"
   ]
  },
  {
   "cell_type": "code",
   "execution_count": 2,
   "id": "5b1f8c33",
   "metadata": {},
   "outputs": [],
   "source": [
    "# a2. Load the corporate reputation data\n",
    "corp_rep_data <- read.csv(file = \"Corporate Reputation Data.csv\", header = TRUE, sep = \";\")\n",
    "\n",
    "# Show the first several rows of the corporate reputation data\n",
    "# head(corp_rep_data)"
   ]
  },
  {
   "cell_type": "code",
   "execution_count": 3,
   "id": "f5e43ff4",
   "metadata": {},
   "outputs": [],
   "source": [
    "# a3. Create measurement model \n",
    "# gambar model di link https://github.com/sundimand/R-statistics/blob/49e78dfe8a42544758644fda341a984bdb64946a/corporate%20moderasi.png\n",
    "simple_mm <- constructs(\n",
    "  composite(\"COMP\", multi_items(\"comp_\", 1:3)), #competence\n",
    "  composite(\"LIKE\", multi_items(\"like_\", 1:3)), #Likeability\n",
    "  composite(\"CUSA\", single_item(\"cusa\")), #customer satisfaction\n",
    "  composite(\"CSOR\", single_item(\"csor_global\")), #Corporate social responsibility\n",
    "  composite(\"CUSL\", multi_items(\"cusl_\", 1:3)), #customer loyalty\n",
    "  composite(\"SC\", multi_items(\"switch_\", 1:4)), #switching cost\n",
    "  \n",
    "  # siapkan construct moderasi SC dan CSOR\n",
    "  interaction_term(iv = \"CUSA\", moderator = \"SC\", method = product_indicator),\n",
    "  interaction_term(iv = \"CUSA\", moderator = \"CSOR\", method = orthogonal ) \n",
    ")"
   ]
  },
  {
   "cell_type": "code",
   "execution_count": 4,
   "id": "5131b272",
   "metadata": {},
   "outputs": [],
   "source": [
    "# a4. Create structural model \n",
    "simple_sm <- relationships(\n",
    "  paths(to = c(\"CUSA\",\"CUSL\"), from = c(\"COMP\", \"LIKE\")), \n",
    "  paths(to = \"CUSL\", from = c(\"CUSA\", \"CSOR\", \"SC\", \"CUSA*CSOR\", \"CUSA*SC\"))\n",
    ")"
   ]
  },
  {
   "cell_type": "code",
   "execution_count": 5,
   "id": "e69cafd1",
   "metadata": {},
   "outputs": [
    {
     "name": "stdout",
     "output_type": "stream",
     "text": [
      "Generating the seminr model\n",
      "All 344 observations are valid.\n"
     ]
    }
   ],
   "source": [
    "# a5. Estimate the model\n",
    "# Estimate the model with default settings\n",
    "corp_pls <- estimate_pls(data = corp_rep_data, \n",
    "    measurement_model = simple_mm,\n",
    "    structural_model = simple_sm,\n",
    "    missing_value = \"-99\")"
   ]
  },
  {
   "cell_type": "code",
   "execution_count": 6,
   "id": "33a04928",
   "metadata": {},
   "outputs": [
    {
     "data": {
      "text/plain": [
       "\n",
       "Results from  package seminr (2.3.7)\n",
       "\n",
       "Path Coefficients:\n",
       "           CUSA   CUSL\n",
       "R^2       0.295  0.573\n",
       "AdjR^2    0.290  0.564\n",
       "COMP      0.162 -0.007\n",
       "LIKE      0.424  0.325\n",
       "CUSA          .  0.465\n",
       "CSOR          . -0.040\n",
       "SC            .  0.079\n",
       "CUSA*CSOR     .  0.018\n",
       "CUSA*SC       . -0.085\n",
       "\n",
       "Reliability:\n",
       "          alpha  rhoC   AVE  rhoA\n",
       "COMP      0.776 0.865 0.681 0.832\n",
       "LIKE      0.831 0.899 0.747 0.836\n",
       "CUSA      1.000 1.000 1.000 1.000\n",
       "CSOR      1.000 1.000 1.000 1.000\n",
       "SC        0.858 0.905 0.705 0.858\n",
       "CUSA*CSOR 1.000 1.000 1.000 1.000\n",
       "CUSA*SC   0.894 0.995 0.981 1.000\n",
       "CUSL      0.831 0.899 0.748 0.839\n",
       "\n",
       "Alpha, rhoC, and rhoA should exceed 0.7 while AVE should exceed 0.5\n"
      ]
     },
     "execution_count": null,
     "metadata": {},
     "output_type": "execute_result"
    }
   ],
   "source": [
    "summary(corp_pls)"
   ]
  },
  {
   "cell_type": "markdown",
   "id": "5dc10f32",
   "metadata": {},
   "source": [
    "### B dan C\n",
    "Langkah selanjutnya adalah \n",
    "\n",
    " - B. Measurement Model Assessment (periksa indikator ke variabel),\n",
    " - C. Structural Model Assessment (periksa antar variabel),\n",
    "\n",
    "detail prosesnya langkah B dan C bisa lihat video mengenai **PLS SEM dengan seminr** di link https://youtu.be/QIKLTsvOZLg?si=V15CyNzTP19LljFB"
   ]
  },
  {
   "cell_type": "code",
   "execution_count": 7,
   "id": "049f216a",
   "metadata": {},
   "outputs": [
    {
     "name": "stdout",
     "output_type": "stream",
     "text": [
      "Bootstrapping model using seminr...\n",
      "SEMinR Model successfully bootstrapped\n"
     ]
    }
   ],
   "source": [
    "# 7. Bootstrap untuk inference (SE, CI, p-value)\n",
    "set.seed(123)\n",
    "corp_boot <- bootstrap_model(corp_pls, nboot = 1000)"
   ]
  },
  {
   "cell_type": "code",
   "execution_count": 8,
   "id": "beb56acb",
   "metadata": {},
   "outputs": [],
   "source": [
    "# 8. Ringkasan bootstrap (koef direct & interaksi, CI, p-value)\n",
    "corp_boot_sum <- summary(corp_boot, alpha = 0.05)"
   ]
  },
  {
   "cell_type": "code",
   "execution_count": 9,
   "id": "9e473024",
   "metadata": {},
   "outputs": [
    {
     "data": {
      "text/plain": [
       "                    Original Est. Bootstrap Mean Bootstrap SD T Stat. 2.5% CI\n",
       "COMP  ->  CUSA              0.162          0.163        0.065   2.482   0.037\n",
       "COMP  ->  CUSL             -0.007          0.001        0.059  -0.122  -0.120\n",
       "LIKE  ->  CUSA              0.424          0.423        0.060   7.109   0.308\n",
       "LIKE  ->  CUSL              0.325          0.320        0.060   5.385   0.199\n",
       "CUSA  ->  CUSL              0.465          0.464        0.048   9.652   0.369\n",
       "CSOR  ->  CUSL             -0.040         -0.040        0.047  -0.839  -0.130\n",
       "SC  ->  CUSL                0.079          0.078        0.061   1.283  -0.039\n",
       "CUSA*CSOR  ->  CUSL         0.018          0.018        0.045   0.386  -0.070\n",
       "CUSA*SC  ->  CUSL          -0.085         -0.087        0.046  -1.828  -0.183\n",
       "                    97.5% CI\n",
       "COMP  ->  CUSA         0.287\n",
       "COMP  ->  CUSL         0.112\n",
       "LIKE  ->  CUSA         0.542\n",
       "LIKE  ->  CUSL         0.430\n",
       "CUSA  ->  CUSL         0.552\n",
       "CSOR  ->  CUSL         0.053\n",
       "SC  ->  CUSL           0.192\n",
       "CUSA*CSOR  ->  CUSL    0.109\n",
       "CUSA*SC  ->  CUSL     -0.001"
      ]
     },
     "execution_count": null,
     "metadata": {},
     "output_type": "execute_result"
    }
   ],
   "source": [
    "# Inspect the bootstrapped structural paths\n",
    "corp_boot_sum$bootstrapped_paths"
   ]
  },
  {
   "cell_type": "markdown",
   "id": "b9400b94",
   "metadata": {},
   "source": [
    "Terlihat bahwa CUSA*SC -> CUSL memiliki nilai CI (2.5%-97.5%) adalah -0.183 dan -0.001, tidak ada nilai 0 di antara dua range data ini, artinya SC menjadi moderator yang signifikan pengaruh CUSA ke CUSL. "
   ]
  },
  {
   "cell_type": "code",
   "execution_count": 10,
   "id": "6bfdacdf",
   "metadata": {},
   "outputs": [
    {
     "data": {
      "image/png": "[encoded data removed]"
     },
     "metadata": {},
     "output_type": "display_data"
    }
   ],
   "source": [
    "# Simple slope analysis plot (Hair et al. 2021)\n",
    "slope_analysis(\n",
    "  moderated_model = corp_pls,\n",
    "  dv = \"CUSL\",\n",
    "  moderator = \"SC\",\n",
    "  iv = \"CUSA\",\n",
    "  leg_place = \"bottomright\"\n",
    ")"
   ]
  },
  {
   "cell_type": "markdown",
   "id": "238654b9",
   "metadata": {},
   "source": [
    "Garis tengah menggambarkan hubungan untuk tingkat biaya pengalihan rata‑rata (SC). Dua garis lainnya menggambarkan hubungan antara CUSA dan CUSL pada tingkat moderator SC yang lebih tinggi (yakni nilai rata‑rata SC ditambah satu unit standar deviasi) dan lebih rendah (yakni nilai rata‑rata SC dikurangi satu unit standar deviasi). Terlihat bahwa hubungan antara CUSA dan CUSL positif untuk ketiga garis tersebut yang ditunjukkan oleh kemiringan garis yang positif. Dengan demikian, tingkat kepuasan pelanggan yang lebih tinggi berkaitan dengan tingkat loyalitas pelanggan yang lebih tinggi. Karena efek moderasi negatif, pada tingkat SC yang tinggi, pengaruh CUSA terhadap CUSL menjadi lebih lemah, sedangkan pada tingkat SC yang rendah, pengaruh CUSA terhadap CUSL menjadi lebih kuat.\n",
    "\n",
    "Selanjutnya, analisis menghasilkan nilai t sebesar −1,828 untuk jalur yang menghubungkan istilah interaksi dengan CUSL. Demikian pula, interval kepercayaan bootstrap 95% untuk efek istilah interaksi adalah [−0,183, −0,001]. Karena interval kepercayaan tidak mencakup nol, disimpulkan bahwa efek tersebut signifikan. Perlu dicatat bahwa hasil ini mungkin sedikit berbeda dari hasil Anda karena sifat acak dari proses bootstrap.\n",
    "\n",
    "Secara keseluruhan, hasil ini memberikan dukungan jelas bahwa SC memiliki efek moderasi yang signifikan dan negatif pada hubungan antara CUSA dan CUSL. Semakin tinggi biaya pengalihan (SC), semakin lemah hubungan antara kepuasan pelanggan (CUSA) dan loyalitas pelanggan (CUSL)."
   ]
  },
  {
   "cell_type": "code",
   "execution_count": 11,
   "id": "aeb2448c",
   "metadata": {},
   "outputs": [
    {
     "name": "stdout",
     "output_type": "stream",
     "text": [
      "Linking to librsvg 2.61.0\n",
      "Gambar model sudah tersimpan di folder dengan nama bootstrap_model_hd moderation.png\n"
     ]
    }
   ],
   "source": [
    "# Inspect the bootstrapped indicator loadings \n",
    "corp_boot_sum$bootstrapped_loadings\n",
    "\n",
    "# d1. Pastikan paket terpasang jika belum ada\n",
    "# install.packages(c(\"DiagrammeR\", \"DiagrammeRsvg\", \"rsvg\"))\n",
    "\n",
    "library(DiagrammeR)\n",
    "library(DiagrammeRsvg)\n",
    "library(rsvg)\n",
    "\n",
    "# d2. Buat atau tangkap graph HTMLwidget (grViz)\n",
    "graph <- plot(corp_boot, title = \"Bootstrapped Model\")\n",
    "\n",
    "# d3. Ekspor ke SVG string\n",
    "svg_graph <- export_svg(graph)\n",
    "nama_file <- \"bootstrap_model_hd moderation.png\"\n",
    "# d4. Render ke PNG 1920×1080 px dan simpan ke file .png\n",
    "rsvg_png(\n",
    "  svg    = charToRaw(svg_graph),      # raw vector SVG\n",
    "  file   = nama_file,  # nama file output\n",
    "  width  = 1920,                      # lebar piksel\n",
    "  height = 1080                       # tinggi piksel\n",
    ")\n",
    "\n",
    "message(sprintf(\"Gambar model sudah tersimpan di folder dengan nama %s\", nama_file))"
   ]
  },
  {
   "cell_type": "markdown",
   "id": "b312fdcc",
   "metadata": {},
   "source": [
    "## Variable"
   ]
  },
  {
   "cell_type": "markdown",
   "id": "a9b6125e",
   "metadata": {},
   "source": [
    "Competence (COMP)\n",
    "comp_1 [The company] is a top competitor in its market\n",
    "comp_2 As far as I know, [the company] is recognized worldwide\n",
    "comp_3 I believe [the company] performs at a premium level\n",
    "\n",
    "Likeability (LIKE)\n",
    "like_1 [The company] is a company I can better identify with than other companies\n",
    "like_2 [The company] is a company I would regret more not having if it no longer existed than I would other companies\n",
    "like_3 I regard [the company] as a likeable company\n",
    "\n",
    "Customer satisfaction (CUSA)\n",
    "cusa I am satisfied with [the company]\n",
    "\n",
    "Customer loyalty (CUSL)\n",
    "cusl_1 I would recommend [company] to friends and relatives\n",
    "cusl_2 If I had to choose again, I would choose [company] as my mobile phone service provider\n",
    "cusl_3 I will remain a customer of [company] in the future\n",
    "\n",
    "Quality (QUAL)\n",
    "qual_1 The products/services offered by [the company] are of high quality\n",
    "qual_2 [The company] is an innovator, rather than an imitator with respect to [industry]\n",
    "qual_3 [The company]’s products/services offer good value for money\n",
    "qual_4 The products/services offered by [the company] are good\n",
    "qual_5 Customer concerns are held in high regard at [the company]\n",
    "qual_6 [The company] is a reliable partner for customers\n",
    "qual_7 [The company] is a trustworthy company\n",
    "qual_8 I have a lot of respect for [the company]\n",
    "\n",
    "Performance (PERF)\n",
    "perf_1 [The company] is a very well-managed company\n",
    "perf_2 [The company] is an economically stable company\n",
    "perf_3 The business risk for [the company] is modest compared to its competitors\n",
    "perf_4 [The company] has growth potential\n",
    "perf_5 [The company] has a clear vision about the future of the company\n",
    "\n",
    "Corporate social responsibility (CSOR)\n",
    "csor_1 [The company] behaves in a socially conscious way\n",
    "csor_2 [The company] is forthright in giving information to the public\n",
    "csor_3 [The company] has a fair attitude toward competitors\n",
    "csor_4 [The company] is concerned about the preservation of the environment\n",
    "csor_5 [The company] is not only concerned about profits\n",
    "\n",
    "Attractiveness (ATTR)\n",
    "attr_1 [The company] is successful in attracting high-quality employees\n",
    "attr_2 I could see myself working at [the company]\n",
    "attr_3 I like the physical appearance of [the company] (company, buildings, shops, etc.)\n",
    "\n",
    "Switching costs indicators (SC)\n",
    "switch_1 It takes me a great deal of time to switch to another company\n",
    "switch_2 It costs me too much to switch to another company\n",
    "switch_3 It takes a lot of effort to get used to a new company with its specific “rules” and practices\n",
    "switch_4 In general, it would be a hassle switching to another company\n",
    "\n",
    "Kita akan coba moderasi SC dan CSOR ke CUSA\n",
    "\n",
    "Single-item measures of QUAL, PERF, CSOR, and ATTR for the redundancy analysis\n",
    "qual_global Please assess the overall quality of [the company’s] activities\n",
    "perf_global Please assess [the company’s] overall performance\n",
    "csor_global Please assess the extent to which [the company] acts in socially conscious ways\n",
    "attr_global [The company] has a high overall attractiveness"
   ]
  }
 ],
 "metadata": {
  "language_info": {
   "name": "r"
  }
 },
 "nbformat": 4,
 "nbformat_minor": 5
}
