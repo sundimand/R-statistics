{
 "cells": [
  {
   "cell_type": "markdown",
   "id": "b5ccbbda",
   "metadata": {},
   "source": [
    "# Analisis Mediasi dengan package seminr\n",
    "### Langkah utama untuk analisis PLS-SEM yaitu:\n",
    " - A. Persiapan ekosistem, data dan model,\n",
    " - B. Measurement Model Assessment (periksa indikator ke variabel),\n",
    " - C. Structural Model Assessment (periksa antar variabel),\n",
    " - D. uji Moderasi / Mediasi\n",
    " - E. Plot gambar hasil analisis seminr"
   ]
  },
  {
   "cell_type": "markdown",
   "id": "cae8606f",
   "metadata": {},
   "source": [
    "### A. Persiapan ekosistem, data dan model,"
   ]
  },
  {
   "cell_type": "code",
   "execution_count": null,
   "id": "052b6db0",
   "metadata": {},
   "outputs": [],
   "source": [
    "# a1. instal library seminr jika belum ada\n",
    "# install.packages(\"seminr\")"
   ]
  },
  {
   "cell_type": "code",
   "execution_count": 25,
   "id": "1989c681",
   "metadata": {},
   "outputs": [],
   "source": [
    "# Make the SEMinR library ready to use\n",
    "library(\"seminr\")"
   ]
  },
  {
   "cell_type": "markdown",
   "id": "f1be0d18",
   "metadata": {},
   "source": [
    "Gambar model PLS SEM yang akan diuji\n",
    "\n",
    "<img src=\"corporate case.png\" alt=\"Alt text\" width=\"600px\" />"
   ]
  },
  {
   "cell_type": "markdown",
   "id": "65373460",
   "metadata": {},
   "source": [
    "video mengenai **PLS SEM dengan seminr** di channel YouTube kami\n",
    "\n",
    "<iframe width=\"560\" height=\"315\" src=\"https://www.youtube.com/embed/QIKLTsvOZLg?si=hQry8N1Myd8A4hpJ\" title=\"YouTube video player\" frameborder=\"0\" allow=\"accelerometer; autoplay; clipboard-write; encrypted-media; gyroscope; picture-in-picture; web-share\" referrerpolicy=\"strict-origin-when-cross-origin\" allowfullscreen></iframe>"
   ]
  },
  {
   "cell_type": "code",
   "execution_count": 26,
   "id": "5b1f8c33",
   "metadata": {},
   "outputs": [],
   "source": [
    "# a2. Load the corporate reputation data\n",
    "corp_rep_data <- read.csv(file = \"Corporate Reputation Data.csv\", header = TRUE, sep = \";\")\n",
    "\n",
    "# Show the first several rows of the corporate reputation data\n",
    "# head(corp_rep_data)"
   ]
  },
  {
   "cell_type": "code",
   "execution_count": 27,
   "id": "f5e43ff4",
   "metadata": {},
   "outputs": [],
   "source": [
    "# a3. Create measurement model \n",
    "# gambar model di link \n",
    "simple_mm <- constructs(\n",
    "  composite(\"COMP\", multi_items(\"comp_\", 1:3)), #competence\n",
    "  composite(\"LIKE\", multi_items(\"like_\", 1:3)), #Likeability\n",
    "  composite(\"CUSA\", single_item(\"cusa\")), #customer satisfaction\n",
    "  composite(\"CUSL\", multi_items(\"cusl_\", 1:3)) #customer loyalty\n",
    ")"
   ]
  },
  {
   "cell_type": "code",
   "execution_count": 28,
   "id": "5131b272",
   "metadata": {},
   "outputs": [],
   "source": [
    "# a4. Create structural model \n",
    "simple_sm <- relationships(\n",
    "  paths(to = c(\"CUSA\",\"CUSL\"), from = c(\"COMP\", \"LIKE\")), \n",
    "  paths(to = \"CUSL\", from = c(\"CUSA\"))\n",
    ")"
   ]
  },
  {
   "cell_type": "code",
   "execution_count": 29,
   "id": "e69cafd1",
   "metadata": {},
   "outputs": [
    {
     "name": "stdout",
     "output_type": "stream",
     "text": [
      "Generating the seminr model\n",
      "All 344 observations are valid.\n"
     ]
    }
   ],
   "source": [
    "# a5. Estimate the model\n",
    "# Estimate the model with default settings\n",
    "corp_pls <- estimate_pls(data = corp_rep_data, \n",
    "    measurement_model = simple_mm,\n",
    "    structural_model = simple_sm,\n",
    "    missing_value = \"-99\")"
   ]
  },
  {
   "cell_type": "code",
   "execution_count": 30,
   "id": "33a04928",
   "metadata": {},
   "outputs": [
    {
     "data": {
      "text/plain": [
       "\n",
       "Results from  package seminr (2.3.7)\n",
       "\n",
       "Path Coefficients:\n",
       "        CUSA  CUSL\n",
       "R^2    0.295 0.562\n",
       "AdjR^2 0.290 0.558\n",
       "COMP   0.162 0.009\n",
       "LIKE   0.424 0.342\n",
       "CUSA       . 0.504\n",
       "\n",
       "Reliability:\n",
       "     alpha  rhoC   AVE  rhoA\n",
       "COMP 0.776 0.865 0.681 0.832\n",
       "LIKE 0.831 0.899 0.747 0.836\n",
       "CUSA 1.000 1.000 1.000 1.000\n",
       "CUSL 0.831 0.899 0.748 0.839\n",
       "\n",
       "Alpha, rhoC, and rhoA should exceed 0.7 while AVE should exceed 0.5\n"
      ]
     },
     "execution_count": null,
     "metadata": {},
     "output_type": "execute_result"
    }
   ],
   "source": [
    "sum_corp_pls <- summary(corp_pls)\n",
    "sum_corp_pls"
   ]
  },
  {
   "cell_type": "markdown",
   "id": "5dc10f32",
   "metadata": {},
   "source": [
    "### B dan C\n",
    "Langkah selanjutnya adalah \n",
    "\n",
    " - B. Measurement Model Assessment (periksa indikator ke variabel),\n",
    " - C. Structural Model Assessment (periksa antar variabel),\n",
    "\n",
    "detail prosesnya langkah B dan C bisa lihat video mengenai **PLS SEM dengan seminr** di channel YouTube kami\n",
    "\n",
    "<iframe width=\"560\" height=\"315\" src=\"https://www.youtube.com/embed/QIKLTsvOZLg?si=hQry8N1Myd8A4hpJ\" title=\"YouTube video player\" frameborder=\"0\" allow=\"accelerometer; autoplay; clipboard-write; encrypted-media; gyroscope; picture-in-picture; web-share\" referrerpolicy=\"strict-origin-when-cross-origin\" allowfullscreen></iframe>"
   ]
  },
  {
   "cell_type": "code",
   "execution_count": 31,
   "id": "049f216a",
   "metadata": {},
   "outputs": [
    {
     "name": "stdout",
     "output_type": "stream",
     "text": [
      "Bootstrapping model using seminr...\n",
      "SEMinR Model successfully bootstrapped\n"
     ]
    }
   ],
   "source": [
    "# 7. Bootstrap untuk inference (SE, CI, p-value)\n",
    "set.seed(123)\n",
    "corp_boot <- bootstrap_model(corp_pls, nboot = 1000)"
   ]
  },
  {
   "cell_type": "code",
   "execution_count": 32,
   "id": "beb56acb",
   "metadata": {},
   "outputs": [],
   "source": [
    "# 8. Ringkasan bootstrap (koef direct & interaksi, CI, p-value)\n",
    "corp_boot_sum <- summary(corp_boot, alpha = 0.05)"
   ]
  },
  {
   "cell_type": "code",
   "execution_count": 33,
   "id": "9e473024",
   "metadata": {},
   "outputs": [
    {
     "data": {
      "text/plain": [
       "               Original Est. Bootstrap Mean Bootstrap SD T Stat. 2.5% CI\n",
       "COMP  ->  CUSA         0.162          0.163        0.065   2.483   0.037\n",
       "COMP  ->  CUSL         0.009          0.015        0.054   0.171  -0.092\n",
       "LIKE  ->  CUSA         0.424          0.423        0.060   7.109   0.308\n",
       "LIKE  ->  CUSL         0.342          0.339        0.057   6.019   0.227\n",
       "CUSA  ->  CUSL         0.504          0.504        0.044  11.588   0.418\n",
       "               97.5% CI\n",
       "COMP  ->  CUSA    0.287\n",
       "COMP  ->  CUSL    0.120\n",
       "LIKE  ->  CUSA    0.541\n",
       "LIKE  ->  CUSL    0.449\n",
       "CUSA  ->  CUSL    0.585"
      ]
     },
     "execution_count": null,
     "metadata": {},
     "output_type": "execute_result"
    }
   ],
   "source": [
    "# Inspect the bootstrapped structural paths\n",
    "corp_boot_sum$bootstrapped_paths"
   ]
  },
  {
   "cell_type": "markdown",
   "id": "de31b4b4",
   "metadata": {},
   "source": [
    "Prinsip pengambilan keputusan Mediasi PLS SEM yang akan diuji (Hair et al. 2021)\n",
    "\n",
    "<img src=\"mediasi2.png\" alt=\"Alt text\" width=\"600px\" />"
   ]
  },
  {
   "cell_type": "markdown",
   "id": "ba8ee1ba",
   "metadata": {},
   "source": [
    "### Tahap 1\n",
    "\n",
    "Kita jalankan baris perintah di bawah ini untuk menguji indirect effect variabel COMP-CUSA-CUSL,"
   ]
  },
  {
   "cell_type": "code",
   "execution_count": 34,
   "id": "29f9f48d",
   "metadata": {},
   "outputs": [
    {
     "data": {
      "text/plain": [
       "      COMP  LIKE  CUSA  CUSL\n",
       "COMP 0.000 0.000 0.000 0.082\n",
       "LIKE 0.000 0.000 0.000 0.214\n",
       "CUSA 0.000 0.000 0.000 0.000\n",
       "CUSL 0.000 0.000 0.000 0.000"
      ]
     },
     "execution_count": null,
     "metadata": {},
     "output_type": "execute_result"
    }
   ],
   "source": [
    "# Inspect total indirect effects\n",
    "sum_corp_pls$total_indirect_effects"
   ]
  },
  {
   "cell_type": "code",
   "execution_count": 35,
   "id": "a54084e4",
   "metadata": {},
   "outputs": [
    {
     "data": {
      "text/plain": [
       " Original Est. Bootstrap Mean   Bootstrap SD        T Stat.        2.5% CI \n",
       "    0.08174938     0.08256306     0.03430492     2.38302212     0.01783308 \n",
       "      97.5% CI \n",
       "    0.15070282 "
      ]
     },
     "execution_count": null,
     "metadata": {},
     "output_type": "execute_result"
    }
   ],
   "source": [
    "\n",
    "# Inspect indirect effects\n",
    "specific_effect_significance(corp_boot,\n",
    "  from = \"COMP\",\n",
    "  through = \"CUSA\",\n",
    "  to = \"CUSL\",\n",
    "  alpha = 0.05\n",
    ")"
   ]
  },
  {
   "cell_type": "markdown",
   "id": "010e2210",
   "metadata": {},
   "source": [
    "If the indirect effect is not significant, we conclude that CUSA does not function as a mediator in the tested relationship.\n",
    "\n",
    "The results show that the total indirect effect of COMP on CUSL is 0.0825 and significant, CI [0.0178 : 0.1507] (no zero value between the CI range), we can declare **CUSA is a mediator between COMP and CUSL**."
   ]
  },
  {
   "cell_type": "markdown",
   "id": "1edf7bc8",
   "metadata": {},
   "source": [
    "Gambar hasil uji COMP - CUSA - CUSL\n",
    "\n",
    "<img src=\"slide4.png\" alt=\"Alt text\" width=\"600px\" />"
   ]
  },
  {
   "cell_type": "code",
   "execution_count": 36,
   "id": "683e0370",
   "metadata": {},
   "outputs": [
    {
     "data": {
      "text/plain": [
       " Original Est. Bootstrap Mean   Bootstrap SD        T Stat.        2.5% CI \n",
       "    0.21382794     0.21333354     0.03611266     5.92113534     0.14592345 \n",
       "      97.5% CI \n",
       "    0.28572651 "
      ]
     },
     "execution_count": null,
     "metadata": {},
     "output_type": "execute_result"
    }
   ],
   "source": [
    "specific_effect_significance(corp_boot,\n",
    "  from = \"LIKE\",\n",
    "  through = \"CUSA\",\n",
    "  to = \"CUSL\",\n",
    "  alpha = 0.05\n",
    ")"
   ]
  },
  {
   "cell_type": "markdown",
   "id": "bcc934d8",
   "metadata": {},
   "source": [
    ", and the total indirect effect of LIKE on CUSL is 0.2133, and significant, CI [0.1459 : 0.2857] (no zero value between the CI range), we can declare **CUSA is a mediator between LIKE and CUSL**."
   ]
  },
  {
   "cell_type": "markdown",
   "id": "3ea2f2b4",
   "metadata": {},
   "source": [
    "Gambar hasil uji LIKE - CUSA - CUSL\n",
    "\n",
    "<img src=\"slide6.png\" alt=\"Alt text\" width=\"600px\" />"
   ]
  },
  {
   "cell_type": "markdown",
   "id": "d26f70da",
   "metadata": {},
   "source": [
    "### Tahap 2 menguji direct effects"
   ]
  },
  {
   "cell_type": "code",
   "execution_count": 37,
   "id": "4c1787c7",
   "metadata": {},
   "outputs": [
    {
     "data": {
      "text/plain": [
       "        CUSA  CUSL\n",
       "R^2    0.295 0.562\n",
       "AdjR^2 0.290 0.558\n",
       "COMP   0.162 0.009\n",
       "LIKE   0.424 0.342\n",
       "CUSA       . 0.504"
      ]
     },
     "execution_count": null,
     "metadata": {},
     "output_type": "execute_result"
    }
   ],
   "source": [
    "# Inspect the direct effects\n",
    "sum_corp_pls$paths"
   ]
  },
  {
   "cell_type": "code",
   "execution_count": 38,
   "id": "8060aaf0",
   "metadata": {},
   "outputs": [
    {
     "data": {
      "text/plain": [
       "               Original Est. Bootstrap Mean Bootstrap SD T Stat. 2.5% CI\n",
       "COMP  ->  CUSA         0.162          0.163        0.065   2.483   0.037\n",
       "COMP  ->  CUSL         0.009          0.015        0.054   0.171  -0.092\n",
       "LIKE  ->  CUSA         0.424          0.423        0.060   7.109   0.308\n",
       "LIKE  ->  CUSL         0.342          0.339        0.057   6.019   0.227\n",
       "CUSA  ->  CUSL         0.504          0.504        0.044  11.588   0.418\n",
       "               97.5% CI\n",
       "COMP  ->  CUSA    0.287\n",
       "COMP  ->  CUSL    0.120\n",
       "LIKE  ->  CUSA    0.541\n",
       "LIKE  ->  CUSL    0.449\n",
       "CUSA  ->  CUSL    0.585"
      ]
     },
     "execution_count": null,
     "metadata": {},
     "output_type": "execute_result"
    }
   ],
   "source": [
    "# Inspect the confidence intervals for direct effects\n",
    "corp_boot_sum$bootstrapped_paths"
   ]
  },
  {
   "cell_type": "markdown",
   "id": "7dfcb9e7",
   "metadata": {},
   "source": [
    "The results show that the direct effect from COMP to CUSL is 0.015 with a 95% confidence interval [−0.092; 0.120]. As this interval includes zero, this direct effect is not significant. According to the guidelines in Hair et al., we therefore conclude that the relationship between COMP and CUSL is **fully mediated** by CUSA."
   ]
  },
  {
   "cell_type": "markdown",
   "id": "e5d1a171",
   "metadata": {},
   "source": [
    "<img src=\"slide5.png\" alt=\"Alt text\" width=\"600px\" />"
   ]
  },
  {
   "cell_type": "markdown",
   "id": "671b508d",
   "metadata": {},
   "source": [
    "Next, we need to consider the direct relationship between LIKE and CUSL, which has a 0.339 path coefficient with a 95%\n",
    "confidence interval [0.227; 0.449]. As this confidence interval does not include zero, we conclude that CUSA **partially mediates** the effect of LIKE on CUSL."
   ]
  },
  {
   "cell_type": "markdown",
   "id": "7971a441",
   "metadata": {},
   "source": [
    "<img src=\"slide7.png\" alt=\"Alt text\" width=\"600px\" />"
   ]
  },
  {
   "cell_type": "code",
   "execution_count": 39,
   "id": "930ef517",
   "metadata": {},
   "outputs": [
    {
     "data": {
      "text/plain": [
       "[1] 0.073144"
      ]
     },
     "execution_count": null,
     "metadata": {},
     "output_type": "execute_result"
    }
   ],
   "source": [
    "# Calculate the sign of p1*p2*p3\n",
    "sum_corp_pls$paths[\"LIKE\", \"CUSL\"] * sum_corp_pls$paths[\"LIKE\",\"CUSA\"] * sum_corp_pls$paths[\"CUSA\",\"CUSL\"]"
   ]
  },
  {
   "cell_type": "code",
   "execution_count": null,
   "id": "aeb2448c",
   "metadata": {},
   "outputs": [],
   "source": [
    "# Inspect the bootstrapped indicator loadings \n",
    "corp_boot_sum$bootstrapped_loadings\n",
    "\n",
    "# d1. Pastikan paket terpasang jika belum ada\n",
    "# install.packages(c(\"DiagrammeR\", \"DiagrammeRsvg\", \"rsvg\"))\n",
    "\n",
    "library(DiagrammeR)\n",
    "library(DiagrammeRsvg)\n",
    "library(rsvg)\n",
    "\n",
    "# d2. Buat atau tangkap graph HTMLwidget (grViz)\n",
    "graph <- plot(corp_boot, title = \"Bootstrapped Model\")\n",
    "\n",
    "# d3. Ekspor ke SVG string\n",
    "svg_graph <- export_svg(graph)\n",
    "nama_file <- \"bootstrap_model_hd modiation.png\"\n",
    "# d4. Render ke PNG 1920×1080 px dan simpan ke file .png\n",
    "rsvg_png(\n",
    "  svg    = charToRaw(svg_graph),      # raw vector SVG\n",
    "  file   = nama_file,  # nama file output\n",
    "  width  = 1920,                      # lebar piksel\n",
    "  height = 1080                       # tinggi piksel\n",
    ")\n",
    "\n",
    "message(sprintf(\"Gambar model sudah tersimpan di folder dengan nama %s\", nama_file))"
   ]
  },
  {
   "cell_type": "markdown",
   "id": "b312fdcc",
   "metadata": {},
   "source": [
    "## Variable"
   ]
  },
  {
   "cell_type": "markdown",
   "id": "a9b6125e",
   "metadata": {},
   "source": [
    "Competence (COMP)\n",
    "comp_1 [The company] is a top competitor in its market\n",
    "comp_2 As far as I know, [the company] is recognized worldwide\n",
    "comp_3 I believe [the company] performs at a premium level\n",
    "\n",
    "Likeability (LIKE)\n",
    "like_1 [The company] is a company I can better identify with than other companies\n",
    "like_2 [The company] is a company I would regret more not having if it no longer existed than I would other companies\n",
    "like_3 I regard [the company] as a likeable company\n",
    "\n",
    "Customer satisfaction (CUSA)\n",
    "cusa I am satisfied with [the company]\n",
    "\n",
    "Customer loyalty (CUSL)\n",
    "cusl_1 I would recommend [company] to friends and relatives\n",
    "cusl_2 If I had to choose again, I would choose [company] as my mobile phone service provider\n",
    "cusl_3 I will remain a customer of [company] in the future\n",
    "\n",
    "Quality (QUAL)\n",
    "qual_1 The products/services offered by [the company] are of high quality\n",
    "qual_2 [The company] is an innovator, rather than an imitator with respect to [industry]\n",
    "qual_3 [The company]’s products/services offer good value for money\n",
    "qual_4 The products/services offered by [the company] are good\n",
    "qual_5 Customer concerns are held in high regard at [the company]\n",
    "qual_6 [The company] is a reliable partner for customers\n",
    "qual_7 [The company] is a trustworthy company\n",
    "qual_8 I have a lot of respect for [the company]\n",
    "\n",
    "Performance (PERF)\n",
    "perf_1 [The company] is a very well-managed company\n",
    "perf_2 [The company] is an economically stable company\n",
    "perf_3 The business risk for [the company] is modest compared to its competitors\n",
    "perf_4 [The company] has growth potential\n",
    "perf_5 [The company] has a clear vision about the future of the company\n",
    "\n",
    "Corporate social responsibility (CSOR)\n",
    "csor_1 [The company] behaves in a socially conscious way\n",
    "csor_2 [The company] is forthright in giving information to the public\n",
    "csor_3 [The company] has a fair attitude toward competitors\n",
    "csor_4 [The company] is concerned about the preservation of the environment\n",
    "csor_5 [The company] is not only concerned about profits\n",
    "\n",
    "Attractiveness (ATTR)\n",
    "attr_1 [The company] is successful in attracting high-quality employees\n",
    "attr_2 I could see myself working at [the company]\n",
    "attr_3 I like the physical appearance of [the company] (company, buildings, shops, etc.)\n",
    "\n",
    "Switching costs indicators (SC)\n",
    "switch_1 It takes me a great deal of time to switch to another company\n",
    "switch_2 It costs me too much to switch to another company\n",
    "switch_3 It takes a lot of effort to get used to a new company with its specific \"rules” and practices\n",
    "switch_4 In general, it would be a hassle switching to another company\n",
    "\n",
    "Kita akan coba moderasi SC dan CSOR ke CUSA\n",
    "\n",
    "Single-item measures of QUAL, PERF, CSOR, and ATTR for the redundancy analysis\n",
    "qual_global Please assess the overall quality of [the company’s] activities\n",
    "perf_global Please assess [the company’s] overall performance\n",
    "csor_global Please assess the extent to which [the company] acts in socially conscious ways\n",
    "attr_global [The company] has a high overall attractiveness"
   ]
  },
  {
   "cell_type": "markdown",
   "id": "2e2695ba",
   "metadata": {},
   "source": [
    "# Reference\n",
    " - Cohen, J. (1988). Statistical power analysis for the behavioral sciences. Mahwah, NJ: Lawrence Erlbaum.\n",
    " - data Corporate: https://www.pls-sem.net/downloads/pls-sem-using-r-a-workbook/\n",
    " - Fornell, C., & Larcker, D. F. (1981). Evaluating structural equation models with unobservable variables and measurement error. Journal of Marketing Research, 18(1), 39–50.\n",
    " - Hair, J. F., Hult, G. T. M., Ringle, C., & Sarstedt, M. (2017). A primer on partial least squares structural equation modeling (PLS-SEM). In SAGE Publications,\n",
    " - Hair, J. F., Risher, J. J., Sarstedt, M., & Ringle, C. M. (2019). When to use and how to report the results of PLS-SEM. European Business Review, 31(1), 2–24.\n",
    " - Hair et al. 2021, https://link.springer.com/book/10.1007/978-3-030-80519-7\n",
    " - Henseler, J., Ringle, C. M., & Sarstedt, M. (2015). A new criterion for assessing discriminant validity in variance-based structural equation modeling. Journal of the Academy of Marketing Science, 43(1), 115–135.\n",
    " - https://mirror.twds.com.tw/CRAN/web/packages/seminr/seminr.pdf\n",
    " - https://github.com/sem-in-r/seminr/blob/master/vignettes/SEMinR.Rmd\n",
    " - https://papers.ssrn.com/sol3/papers.cfm?abstract_id=3900621\n",
    " - https://cran.r-project.org/web/packages/seminr/index.html"
   ]
  }
 ],
 "metadata": {
  "language_info": {
   "name": "r"
  }
 },
 "nbformat": 4,
 "nbformat_minor": 5
}
